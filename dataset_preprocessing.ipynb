{
  "nbformat": 4,
  "nbformat_minor": 0,
  "metadata": {
    "colab": {
      "name": "dataset_preprocessing.ipynb",
      "provenance": [],
      "collapsed_sections": [],
      "authorship_tag": "ABX9TyP4EWswmG5ZdCPAjqp882O0",
      "include_colab_link": true
    },
    "kernelspec": {
      "name": "python3",
      "display_name": "Python 3"
    },
    "language_info": {
      "name": "python"
    }
  },
  "cells": [
    {
      "cell_type": "markdown",
      "metadata": {
        "id": "view-in-github",
        "colab_type": "text"
      },
      "source": [
        "<a href=\"https://colab.research.google.com/github/eistratova/PyTorch_programming_lessons/blob/main/dataset_preprocessing.ipynb\" target=\"_parent\"><img src=\"https://colab.research.google.com/assets/colab-badge.svg\" alt=\"Open In Colab\"/></a>"
      ]
    },
    {
      "cell_type": "markdown",
      "metadata": {
        "id": "r_kgjFjVPwYR"
      },
      "source": [
        "# Подготовка датасета для машинного обучения\n",
        "\n",
        "\n",
        "---\n",
        "\n",
        "\n",
        "Датасет для обучения сети предсказанию психофизиологического состояния человека\n",
        "\n",
        "\n",
        "---\n",
        "\n",
        "\n",
        "\n",
        "\n",
        "Датасет вместе с json-файлом находится на Google-диске по [ссылке](https://drive.google.com/drive/u/0/folders/1QLwkJ4fBdQKWoJiMtBljDzmiIrUUL9XB)\n",
        " \n",
        " Описание датасета и формата json-файла находится в папке выше уровнем в файле `_README`.\n",
        "\n",
        "\n",
        "---\n",
        "\n",
        "\n",
        "\n",
        " ## Задача\n",
        " 1. Сформировать дата-фрейм для машинного обучения. Так же, сохранить дата-фрейм в формате Excel. Файл сохранять на Google-диске в той же директории, где находится json-файл.\n",
        " 2. Очистить датасет или подправить значения полей.\n",
        " 3. Добавить столбцы со значением даты и времени (раздельно).\n",
        " 4. Желательно доавить столбец, в котором для каждого диктора указан номер записи в каждом дне. \n",
        " 2. Добавить столбец с частотой дискретизации аудиозаписи.\n",
        " 3. Из дата-фрейма и таблицы Excel исключить записи короче 20 секунд. \n",
        "\n",
        "    *12.10.2021*\n",
        "\n",
        "\n",
        "---"
      ]
    },
    {
      "cell_type": "markdown",
      "metadata": {
        "id": "8R3cGnVeRfyH"
      },
      "source": [
        "1. Подключаем гугл диск\n",
        "2. Импортируем панду и создаем дата фрейм\n",
        "3. Сохраняем в эксель с помощью\n",
        "-  Вставьте JSON в json-csv.com .\n",
        "\n",
        " - Загрузите полученный файл CSV.\n",
        "\n",
        " - Откройте файл CSV в Excel.\n",
        "4. Смотрим дата сет и чистим поля\n",
        "5. ђй2\n",
        "\n",
        "\n",
        "1.   Новый пункт\n",
        "2.   Новый пункт\n",
        "\n"
      ]
    },
    {
      "cell_type": "code",
      "metadata": {
        "colab": {
          "base_uri": "https://localhost:8080/"
        },
        "id": "znEFkvTvpZEV",
        "outputId": "c7385718-4219-4294-8241-11eef0e3d350"
      },
      "source": [
        " \n",
        "# Подключение к Google-диску, где хранятся данные и будут сохраняться модели.\n",
        "\n",
        "from google.colab import drive\n",
        "drive.mount('/gdrive')\n",
        "# Переходим на диск\n",
        "%cd /gdrive\n",
        "%ls"
      ],
      "execution_count": null,
      "outputs": [
        {
          "output_type": "stream",
          "name": "stdout",
          "text": [
            "Drive already mounted at /gdrive; to attempt to forcibly remount, call drive.mount(\"/gdrive\", force_remount=True).\n",
            "/gdrive\n",
            "\u001b[0m\u001b[01;34mMyDrive\u001b[0m/  \u001b[01;34mShareddrives\u001b[0m/\n"
          ]
        }
      ]
    },
    {
      "cell_type": "code",
      "metadata": {
        "colab": {
          "base_uri": "https://localhost:8080/"
        },
        "id": "_9GLJ0WZpxDy",
        "outputId": "bf08d2a8-a3ab-4f4e-ef27-dc849e5f862c"
      },
      "source": [
        "# Проверяем наличие доступа к директории с дата-сетом записей и выводим 7 строк с названиями файлов\n",
        "\n",
        "%cd '/gdrive/Shareddrives/Archive/voice-psychophysiology-data-set/GRAN'\n",
        "%ls -x | head -n 7"
      ],
      "execution_count": null,
      "outputs": [
        {
          "output_type": "stream",
          "name": "stdout",
          "text": [
            "/gdrive/Shareddrives/Archive/voice-psychophysiology-data-set/GRAN\n",
            "DBGranSounds.json\n",
            "DBGranSounds.xls\n",
            "dfgran_cleaned.csv\n",
            "dfgran_cleaned.xlsx\n",
            "dfgran.csv\n",
            "dfgran.xlsx\n",
            "dictor_rec_count.xlsx\n"
          ]
        }
      ]
    },
    {
      "cell_type": "code",
      "metadata": {
        "id": "O8ilVjb2rDNT"
      },
      "source": [
        "import json\n",
        "from pprint import pprint #подключили Pprint для красоты выдачи текста\n",
        "import pandas as pd\n"
      ],
      "execution_count": null,
      "outputs": []
    },
    {
      "cell_type": "code",
      "metadata": {
        "id": "CzdQvD2OrbcU"
      },
      "source": [
        "dir=('/gdrive/Shareddrives/Archive/voice-psychophysiology-data-set/GRAN/')"
      ],
      "execution_count": null,
      "outputs": []
    },
    {
      "cell_type": "code",
      "metadata": {
        "id": "82oZzWrqLaY4"
      },
      "source": [
        "with open(dir+'DBGranSounds.json', 'r') as jfile:\n",
        "    json_data = json.load(jfile)\n",
        "    #pprint(json_data) #вывели результат на экран"
      ],
      "execution_count": null,
      "outputs": []
    },
    {
      "cell_type": "markdown",
      "metadata": {
        "id": "kdh2SWleriEb"
      },
      "source": [
        "activity_type': 'оператор',\n",
        "  'age': '52',\n",
        "  'dictor_id': 'stesht',\n",
        "  'filename': 'GRAN_stesht_00000_20211006_061416.wav',\n",
        "  'gender': 'Женщина',\n",
        "  'health': 'норма',\n",
        "  'memo': '',\n",
        "  'record_date_time': '2021-10-06 06:14:10',\n",
        "  'record_id': '00000'},"
      ]
    },
    {
      "cell_type": "code",
      "metadata": {
        "colab": {
          "base_uri": "https://localhost:8080/",
          "height": 241
        },
        "id": "9dTx8lypbyD6",
        "outputId": "59811a76-0a28-4b9f-f38c-c16439e5a21e"
      },
      "source": [
        "gran_df = pd.read_json(dir+'DBGranSounds.json')\n",
        "gran_df.head()\n"
      ],
      "execution_count": null,
      "outputs": [
        {
          "output_type": "execute_result",
          "data": {
            "text/html": [
              "<div>\n",
              "<style scoped>\n",
              "    .dataframe tbody tr th:only-of-type {\n",
              "        vertical-align: middle;\n",
              "    }\n",
              "\n",
              "    .dataframe tbody tr th {\n",
              "        vertical-align: top;\n",
              "    }\n",
              "\n",
              "    .dataframe thead th {\n",
              "        text-align: right;\n",
              "    }\n",
              "</style>\n",
              "<table border=\"1\" class=\"dataframe\">\n",
              "  <thead>\n",
              "    <tr style=\"text-align: right;\">\n",
              "      <th></th>\n",
              "      <th>filename</th>\n",
              "      <th>record_date_time</th>\n",
              "      <th>gender</th>\n",
              "      <th>age</th>\n",
              "      <th>record_id</th>\n",
              "      <th>dictor_id</th>\n",
              "      <th>activity_type</th>\n",
              "      <th>health</th>\n",
              "      <th>memo</th>\n",
              "    </tr>\n",
              "  </thead>\n",
              "  <tbody>\n",
              "    <tr>\n",
              "      <th>0</th>\n",
              "      <td>GRAN_test_0000_20210621_155009.wav</td>\n",
              "      <td>2021-06-21 15:50:06</td>\n",
              "      <td>Неопределенно</td>\n",
              "      <td>33</td>\n",
              "      <td>0000</td>\n",
              "      <td>test</td>\n",
              "      <td>не скажу</td>\n",
              "      <td>норма</td>\n",
              "      <td>Тестовый</td>\n",
              "    </tr>\n",
              "    <tr>\n",
              "      <th>1</th>\n",
              "      <td>GRAN_kelesheva_00000_20210630_102019.wav</td>\n",
              "      <td>2021-06-30 10:20:06</td>\n",
              "      <td>Женщина</td>\n",
              "      <td></td>\n",
              "      <td>00000</td>\n",
              "      <td>kelesheva</td>\n",
              "      <td>Оператор</td>\n",
              "      <td>норма</td>\n",
              "      <td>-</td>\n",
              "    </tr>\n",
              "    <tr>\n",
              "      <th>2</th>\n",
              "      <td>GRAN_evtushenkopmi_00000_20210701_005006.wav</td>\n",
              "      <td>2021-07-01 00:50:07</td>\n",
              "      <td>Мужчина</td>\n",
              "      <td>26</td>\n",
              "      <td>00000</td>\n",
              "      <td>evtushenkopmi</td>\n",
              "      <td>Operator</td>\n",
              "      <td>норма</td>\n",
              "      <td></td>\n",
              "    </tr>\n",
              "    <tr>\n",
              "      <th>3</th>\n",
              "      <td>GRAN_bugrovayagi_00000_20210701_045941.wav</td>\n",
              "      <td>2021-07-01 04:59:07</td>\n",
              "      <td>Женщина</td>\n",
              "      <td>31</td>\n",
              "      <td>00000</td>\n",
              "      <td>bugrovayagi</td>\n",
              "      <td>оператор</td>\n",
              "      <td>норма</td>\n",
              "      <td></td>\n",
              "    </tr>\n",
              "    <tr>\n",
              "      <th>4</th>\n",
              "      <td>GRAN__00000_20210701_045844.wav</td>\n",
              "      <td>2021-07-01 04:58:07</td>\n",
              "      <td>Неопределенно</td>\n",
              "      <td></td>\n",
              "      <td>00000</td>\n",
              "      <td></td>\n",
              "      <td>Оператор</td>\n",
              "      <td>норма</td>\n",
              "      <td>Норм день</td>\n",
              "    </tr>\n",
              "  </tbody>\n",
              "</table>\n",
              "</div>"
            ],
            "text/plain": [
              "                                       filename  ...       memo\n",
              "0            GRAN_test_0000_20210621_155009.wav  ...   Тестовый\n",
              "1      GRAN_kelesheva_00000_20210630_102019.wav  ...          -\n",
              "2  GRAN_evtushenkopmi_00000_20210701_005006.wav  ...           \n",
              "3    GRAN_bugrovayagi_00000_20210701_045941.wav  ...           \n",
              "4               GRAN__00000_20210701_045844.wav  ...  Норм день\n",
              "\n",
              "[5 rows x 9 columns]"
            ]
          },
          "metadata": {},
          "execution_count": 6
        }
      ]
    },
    {
      "cell_type": "code",
      "metadata": {
        "id": "sxgs2I9W-B_w"
      },
      "source": [
        "gran_df.to_excel(dir+'DBGranSounds.xls', 'name')"
      ],
      "execution_count": null,
      "outputs": []
    },
    {
      "cell_type": "code",
      "metadata": {
        "colab": {
          "base_uri": "https://localhost:8080/"
        },
        "id": "rrRaC7GXBUAe",
        "outputId": "28a52462-5632-4a30-ad8e-28edc8909db9"
      },
      "source": [
        "gran_df.info()"
      ],
      "execution_count": null,
      "outputs": [
        {
          "output_type": "stream",
          "name": "stdout",
          "text": [
            "<class 'pandas.core.frame.DataFrame'>\n",
            "RangeIndex: 7278 entries, 0 to 7277\n",
            "Data columns (total 9 columns):\n",
            " #   Column            Non-Null Count  Dtype         \n",
            "---  ------            --------------  -----         \n",
            " 0   filename          7278 non-null   object        \n",
            " 1   record_date_time  7278 non-null   datetime64[ns]\n",
            " 2   gender            7278 non-null   object        \n",
            " 3   age               7278 non-null   object        \n",
            " 4   record_id         7278 non-null   object        \n",
            " 5   dictor_id         7278 non-null   object        \n",
            " 6   activity_type     7278 non-null   object        \n",
            " 7   health            7278 non-null   object        \n",
            " 8   memo              7278 non-null   object        \n",
            "dtypes: datetime64[ns](1), object(8)\n",
            "memory usage: 511.9+ KB\n"
          ]
        }
      ]
    },
    {
      "cell_type": "code",
      "metadata": {
        "id": "V9UKwYEKFuqx"
      },
      "source": [
        "#gran_df['age']=gran_df.astype('int64')\n"
      ],
      "execution_count": null,
      "outputs": []
    },
    {
      "cell_type": "code",
      "metadata": {
        "colab": {
          "base_uri": "https://localhost:8080/"
        },
        "id": "jxM_1MpEBzbr",
        "outputId": "2229f522-c3da-4a1c-9f65-2d5cd1e0165b"
      },
      "source": [
        "gran_df['age'].value_counts()"
      ],
      "execution_count": null,
      "outputs": [
        {
          "output_type": "execute_result",
          "data": {
            "text/plain": [
              "       591\n",
              "23     386\n",
              "25     377\n",
              "32     368\n",
              "0      366\n",
              "      ... \n",
              "019      1\n",
              "--       1\n",
              "3        1\n",
              "11       1\n",
              "522      1\n",
              "Name: age, Length: 67, dtype: int64"
            ]
          },
          "metadata": {},
          "execution_count": 10
        }
      ]
    },
    {
      "cell_type": "code",
      "metadata": {
        "colab": {
          "base_uri": "https://localhost:8080/"
        },
        "id": "-jIVof9WCMvn",
        "outputId": "82cfcc86-0dea-4c77-f715-18e4c64dddba"
      },
      "source": [
        "gran_df.age.unique()"
      ],
      "execution_count": null,
      "outputs": [
        {
          "output_type": "execute_result",
          "data": {
            "text/plain": [
              "array(['33', '', '26', '31', '23', '20', '39', '22', '44', '52', '36',\n",
              "       '32', '49', '50', '58', '34', '35', '25', '48', '30', '47', '42',\n",
              "       '18', '73', '51', '24', '29', '28', '19', '55', '43', '37', '38',\n",
              "       '21', '40', '45', '27', '53', '64', '-', '46', '66', '62', '54',\n",
              "       '61', '56', '57', '2', '17', '--', '25 ', '522', '1', '59', '322',\n",
              "       '17 ', '11', '0', '025', '41', '047', '033', '019', '042', '99',\n",
              "       '018', '3'], dtype=object)"
            ]
          },
          "metadata": {},
          "execution_count": 11
        }
      ]
    },
    {
      "cell_type": "code",
      "metadata": {
        "colab": {
          "base_uri": "https://localhost:8080/"
        },
        "id": "NjvdUQoXNKnk",
        "outputId": "16a97771-485b-4fef-f28a-3176144db843"
      },
      "source": [
        "\n",
        "count = 0\n",
        "for raw in gran_df.index:\n",
        "    if gran_df.age[raw]  == '522':\n",
        "        print(\"Замена 522 на 0\")\n",
        "        gran_df.age[raw] = 0\n",
        "    if gran_df.age[raw]  == '322':\n",
        "        gran_df.age[raw] = 0\n",
        "    count += 1\n",
        "print('Проверили строк:', count)\n",
        "print(gran_df.age.unique())\n"
      ],
      "execution_count": null,
      "outputs": [
        {
          "output_type": "stream",
          "name": "stdout",
          "text": [
            "Замена 522 на 0\n",
            "Проверили строк: 7278\n",
            "['33' '' '26' '31' '23' '20' '39' '22' '44' '52' '36' '32' '49' '50' '58'\n",
            " '34' '35' '25' '48' '30' '47' '42' '18' '73' '51' '24' '29' '28' '19'\n",
            " '55' '43' '37' '38' '21' '40' '45' '27' '53' '64' '-' '46' '66' '62' '54'\n",
            " '61' '56' '57' '2' '17' '--' '25 ' 0 '1' '59' '17 ' '11' '0' '025' '41'\n",
            " '047' '033' '019' '042' '99' '018' '3']\n"
          ]
        },
        {
          "output_type": "stream",
          "name": "stderr",
          "text": [
            "/usr/local/lib/python3.7/dist-packages/ipykernel_launcher.py:6: SettingWithCopyWarning: \n",
            "A value is trying to be set on a copy of a slice from a DataFrame\n",
            "\n",
            "See the caveats in the documentation: https://pandas.pydata.org/pandas-docs/stable/user_guide/indexing.html#returning-a-view-versus-a-copy\n",
            "  \n",
            "/usr/local/lib/python3.7/dist-packages/ipykernel_launcher.py:8: SettingWithCopyWarning: \n",
            "A value is trying to be set on a copy of a slice from a DataFrame\n",
            "\n",
            "See the caveats in the documentation: https://pandas.pydata.org/pandas-docs/stable/user_guide/indexing.html#returning-a-view-versus-a-copy\n",
            "  \n"
          ]
        }
      ]
    },
    {
      "cell_type": "code",
      "metadata": {
        "id": "trE5WdwEVpr2"
      },
      "source": [
        "gran_df = gran_df.replace( {'age': {'--':'0', '-':'0', '025':'0', '019':'0', '042': '0', '99':'0', '018': '0'}} )\n"
      ],
      "execution_count": null,
      "outputs": []
    },
    {
      "cell_type": "code",
      "metadata": {
        "colab": {
          "base_uri": "https://localhost:8080/"
        },
        "id": "Rd79638nI_kn",
        "outputId": "9d7c7e86-689d-48e9-96a6-e5712c7373bd"
      },
      "source": [
        "gran_df.age.unique()"
      ],
      "execution_count": null,
      "outputs": [
        {
          "output_type": "execute_result",
          "data": {
            "text/plain": [
              "array(['33', '', '26', '31', '23', '20', '39', '22', '44', '52', '36',\n",
              "       '32', '49', '50', '58', '34', '35', '25', '48', '30', '47', '42',\n",
              "       '18', '73', '51', '24', '29', '28', '19', '55', '43', '37', '38',\n",
              "       '21', '40', '45', '27', '53', '64', '0', '46', '66', '62', '54',\n",
              "       '61', '56', '57', '2', '17', '25 ', 0, '1', '59', '17 ', '11',\n",
              "       '41', '047', '033', '3'], dtype=object)"
            ]
          },
          "metadata": {},
          "execution_count": 14
        }
      ]
    },
    {
      "cell_type": "code",
      "metadata": {
        "colab": {
          "base_uri": "https://localhost:8080/"
        },
        "id": "QVspwBdoDCeV",
        "outputId": "7262fa3e-a3ef-4fbf-e1f9-a5fb23329fd4"
      },
      "source": [
        "gran_df.isna().sum()"
      ],
      "execution_count": null,
      "outputs": [
        {
          "output_type": "execute_result",
          "data": {
            "text/plain": [
              "filename            0\n",
              "record_date_time    0\n",
              "gender              0\n",
              "age                 0\n",
              "record_id           0\n",
              "dictor_id           0\n",
              "activity_type       0\n",
              "health              0\n",
              "memo                0\n",
              "dtype: int64"
            ]
          },
          "metadata": {},
          "execution_count": 15
        }
      ]
    },
    {
      "cell_type": "code",
      "metadata": {
        "id": "L8USKkRi_ng3"
      },
      "source": [
        "gran_df['age'] = pd.to_numeric(gran_df['age'])"
      ],
      "execution_count": null,
      "outputs": []
    },
    {
      "cell_type": "code",
      "metadata": {
        "colab": {
          "base_uri": "https://localhost:8080/"
        },
        "id": "cYg8G9mAv1uD",
        "outputId": "71897c32-f6ec-4c17-ecd3-228ea0dd5b0d"
      },
      "source": [
        "gran_df.info()"
      ],
      "execution_count": null,
      "outputs": [
        {
          "output_type": "stream",
          "name": "stdout",
          "text": [
            "<class 'pandas.core.frame.DataFrame'>\n",
            "RangeIndex: 7278 entries, 0 to 7277\n",
            "Data columns (total 9 columns):\n",
            " #   Column            Non-Null Count  Dtype         \n",
            "---  ------            --------------  -----         \n",
            " 0   filename          7278 non-null   object        \n",
            " 1   record_date_time  7278 non-null   datetime64[ns]\n",
            " 2   gender            7278 non-null   object        \n",
            " 3   age               6687 non-null   float64       \n",
            " 4   record_id         7278 non-null   object        \n",
            " 5   dictor_id         7278 non-null   object        \n",
            " 6   activity_type     7278 non-null   object        \n",
            " 7   health            7278 non-null   object        \n",
            " 8   memo              7278 non-null   object        \n",
            "dtypes: datetime64[ns](1), float64(1), object(7)\n",
            "memory usage: 511.9+ KB\n"
          ]
        }
      ]
    },
    {
      "cell_type": "code",
      "metadata": {
        "colab": {
          "base_uri": "https://localhost:8080/"
        },
        "id": "0uTwUmL9wN9u",
        "outputId": "686ee84d-3dcf-4dcd-cc84-e4d02bf68f12"
      },
      "source": [
        "gran_df['age'].unique()"
      ],
      "execution_count": null,
      "outputs": [
        {
          "output_type": "execute_result",
          "data": {
            "text/plain": [
              "array([33., nan, 26., 31., 23., 20., 39., 22., 44., 52., 36., 32., 49.,\n",
              "       50., 58., 34., 35., 25., 48., 30., 47., 42., 18., 73., 51., 24.,\n",
              "       29., 28., 19., 55., 43., 37., 38., 21., 40., 45., 27., 53., 64.,\n",
              "        0., 46., 66., 62., 54., 61., 56., 57.,  2., 17.,  1., 59., 11.,\n",
              "       41.,  3.])"
            ]
          },
          "metadata": {},
          "execution_count": 18
        }
      ]
    },
    {
      "cell_type": "code",
      "metadata": {
        "id": "JkzC8A0Cwope"
      },
      "source": [
        "gran_df = gran_df.fillna(0)"
      ],
      "execution_count": null,
      "outputs": []
    },
    {
      "cell_type": "code",
      "metadata": {
        "colab": {
          "base_uri": "https://localhost:8080/"
        },
        "id": "jvPpUIMmwrl9",
        "outputId": "4ae92fd8-4e5e-44c3-b32d-6df4521c1ab5"
      },
      "source": [
        "gran_df.info()"
      ],
      "execution_count": null,
      "outputs": [
        {
          "output_type": "stream",
          "name": "stdout",
          "text": [
            "<class 'pandas.core.frame.DataFrame'>\n",
            "RangeIndex: 7278 entries, 0 to 7277\n",
            "Data columns (total 9 columns):\n",
            " #   Column            Non-Null Count  Dtype         \n",
            "---  ------            --------------  -----         \n",
            " 0   filename          7278 non-null   object        \n",
            " 1   record_date_time  7278 non-null   datetime64[ns]\n",
            " 2   gender            7278 non-null   object        \n",
            " 3   age               7278 non-null   float64       \n",
            " 4   record_id         7278 non-null   object        \n",
            " 5   dictor_id         7278 non-null   object        \n",
            " 6   activity_type     7278 non-null   object        \n",
            " 7   health            7278 non-null   object        \n",
            " 8   memo              7278 non-null   object        \n",
            "dtypes: datetime64[ns](1), float64(1), object(7)\n",
            "memory usage: 511.9+ KB\n"
          ]
        }
      ]
    },
    {
      "cell_type": "code",
      "metadata": {
        "id": "9WftH1sq_zvw"
      },
      "source": [
        "gran_df['record_date'] = pd.to_datetime(gran_df['record_date_time'].dt.date) "
      ],
      "execution_count": null,
      "outputs": []
    },
    {
      "cell_type": "code",
      "metadata": {
        "colab": {
          "base_uri": "https://localhost:8080/"
        },
        "id": "DAaDqMAi__m_",
        "outputId": "e51627bb-a7b4-4dac-fbc0-fc36d0271d21"
      },
      "source": [
        "print(gran_df['record_date'].dt.date)"
      ],
      "execution_count": null,
      "outputs": [
        {
          "output_type": "stream",
          "name": "stdout",
          "text": [
            "0       2021-06-21\n",
            "1       2021-06-30\n",
            "2       2021-07-01\n",
            "3       2021-07-01\n",
            "4       2021-07-01\n",
            "           ...    \n",
            "7273    2021-11-02\n",
            "7274    2021-11-02\n",
            "7275    2021-11-02\n",
            "7276    2021-11-02\n",
            "7277    2021-11-02\n",
            "Name: record_date, Length: 7278, dtype: object\n"
          ]
        }
      ]
    },
    {
      "cell_type": "code",
      "metadata": {
        "id": "sUWeVSryBpZ9"
      },
      "source": [
        "gran_df['record_time'] = (pd.to_datetime(gran_df['record_date_time']).dt.time)"
      ],
      "execution_count": null,
      "outputs": []
    },
    {
      "cell_type": "markdown",
      "metadata": {
        "id": "_mzR064hRVcA"
      },
      "source": [
        "# Преобразуем время из поля record_time в продолжительность (в минутах, например))"
      ]
    },
    {
      "cell_type": "code",
      "metadata": {
        "id": "g_eQ15b4HgZQ"
      },
      "source": [
        "gran_df['record_time_str'] = gran_df['record_time'].astype(str)"
      ],
      "execution_count": null,
      "outputs": []
    },
    {
      "cell_type": "code",
      "metadata": {
        "colab": {
          "base_uri": "https://localhost:8080/"
        },
        "id": "ojY8gyJiASA0",
        "outputId": "042d4ba9-c1b7-413e-c545-c329aeee8fb9"
      },
      "source": [
        "print(gran_df['record_time_str'])"
      ],
      "execution_count": null,
      "outputs": [
        {
          "output_type": "stream",
          "name": "stdout",
          "text": [
            "0       15:50:06\n",
            "1       10:20:06\n",
            "2       00:50:07\n",
            "3       04:59:07\n",
            "4       04:58:07\n",
            "          ...   \n",
            "7273    14:52:11\n",
            "7274    14:51:11\n",
            "7275    14:52:11\n",
            "7276    14:55:11\n",
            "7277    15:04:11\n",
            "Name: record_time_str, Length: 7278, dtype: object\n"
          ]
        }
      ]
    },
    {
      "cell_type": "code",
      "metadata": {
        "id": "-TIUivFDO3kY",
        "colab": {
          "base_uri": "https://localhost:8080/",
          "height": 52
        },
        "outputId": "7cbd9651-e12f-4e5f-d0f1-21640ab504a7"
      },
      "source": [
        "'''\n",
        "функция перевода времени в часы (рабочая, но нам не подходит, т к у нас Series)\n",
        "def time_to_num(record_time_str):\n",
        "  hh, mm , ss = map(int, gran_df.record_time_str.split(':'))\n",
        "  return ss + 60*(mm + 60*hh)\n",
        "  #gran_df.append(gran_df['record_time_num'])\n",
        "'''"
      ],
      "execution_count": null,
      "outputs": [
        {
          "output_type": "execute_result",
          "data": {
            "application/vnd.google.colaboratory.intrinsic+json": {
              "type": "string"
            },
            "text/plain": [
              "\"\\nфункция перевода времени в часы (рабочая, но нам не подходит, т к у нас Series)\\ndef time_to_num(record_time_str):\\n  hh, mm , ss = map(int, gran_df.record_time_str.split(':'))\\n  return ss + 60*(mm + 60*hh)\\n  #gran_df.append(gran_df['record_time_num'])\\n\""
            ]
          },
          "metadata": {},
          "execution_count": 31
        }
      ]
    },
    {
      "cell_type": "code",
      "metadata": {
        "colab": {
          "base_uri": "https://localhost:8080/"
        },
        "id": "M9fklwJcbJHE",
        "outputId": "c1308447-82bd-4b14-e8a6-2cc65cb44b41"
      },
      "source": [
        "# переводим продолжительность в часы\n",
        "# отличное описание здесь: https://coderoad.ru/51938140/%D0%9A%D0%B0%D0%BA-%D0%BF%D0%BE%D0%BB%D1%83%D1%87%D0%B8%D1%82%D1%8C-%D0%BF%D1%80%D0%BE%D0%B4%D0%BE%D0%BB%D0%B6%D0%B8%D1%82%D0%B5%D0%BB%D1%8C%D0%BD%D0%BE%D1%81%D1%82%D1%8C-%D0%B2%D1%80%D0%B5%D0%BC%D0%B5%D0%BD%D0%B8-%D0%B8%D0%B7-%D0%B4%D0%B2%D1%83%D1%85-%D1%81%D1%82%D0%BE%D0%BB%D0%B1%D1%86%D0%BE%D0%B2-%D0%B4%D0%B0%D1%82%D1%8B-%D0%B8-%D0%B2%D1%80%D0%B5%D0%BC%D0%B5%D0%BD%D0%B8-pandas\n",
        "\n",
        "import numpy as np\n",
        "gran_df['record_time_h'] = (gran_df['record_time_str'])/np.timedelta64(1,'h')\n",
        "gran_df['record_time_h']"
      ],
      "execution_count": null,
      "outputs": [
        {
          "output_type": "execute_result",
          "data": {
            "text/plain": [
              "0       15.835000\n",
              "1       10.335000\n",
              "2        0.835278\n",
              "3        4.985278\n",
              "4        4.968611\n",
              "          ...    \n",
              "7273    14.869722\n",
              "7274    14.853056\n",
              "7275    14.869722\n",
              "7276    14.919722\n",
              "7277    15.069722\n",
              "Name: record_time_h, Length: 7278, dtype: float64"
            ]
          },
          "metadata": {},
          "execution_count": 32
        }
      ]
    },
    {
      "cell_type": "code",
      "metadata": {
        "colab": {
          "base_uri": "https://localhost:8080/"
        },
        "id": "kXNRTjOPddY-",
        "outputId": "b3b9c1f9-988c-434d-d914-c75a34012bf0"
      },
      "source": [
        "# преобразовываем в минуты\n",
        "gran_df['record_time_min'] = (gran_df['record_time_str'])/np.timedelta64(1,'m')\n",
        "gran_df['record_time_min']"
      ],
      "execution_count": null,
      "outputs": [
        {
          "output_type": "execute_result",
          "data": {
            "text/plain": [
              "0       950.100000\n",
              "1       620.100000\n",
              "2        50.116667\n",
              "3       299.116667\n",
              "4       298.116667\n",
              "           ...    \n",
              "7273    892.183333\n",
              "7274    891.183333\n",
              "7275    892.183333\n",
              "7276    895.183333\n",
              "7277    904.183333\n",
              "Name: record_time_min, Length: 7278, dtype: float64"
            ]
          },
          "metadata": {},
          "execution_count": 33
        }
      ]
    },
    {
      "cell_type": "code",
      "metadata": {
        "colab": {
          "base_uri": "https://localhost:8080/",
          "height": 241
        },
        "id": "_QSlMgeqb8LU",
        "outputId": "d1092251-8720-425c-e452-1a265d1b65b2"
      },
      "source": [
        "gran_df.head()"
      ],
      "execution_count": null,
      "outputs": [
        {
          "output_type": "execute_result",
          "data": {
            "text/html": [
              "<div>\n",
              "<style scoped>\n",
              "    .dataframe tbody tr th:only-of-type {\n",
              "        vertical-align: middle;\n",
              "    }\n",
              "\n",
              "    .dataframe tbody tr th {\n",
              "        vertical-align: top;\n",
              "    }\n",
              "\n",
              "    .dataframe thead th {\n",
              "        text-align: right;\n",
              "    }\n",
              "</style>\n",
              "<table border=\"1\" class=\"dataframe\">\n",
              "  <thead>\n",
              "    <tr style=\"text-align: right;\">\n",
              "      <th></th>\n",
              "      <th>filename</th>\n",
              "      <th>record_date_time</th>\n",
              "      <th>gender</th>\n",
              "      <th>age</th>\n",
              "      <th>record_id</th>\n",
              "      <th>dictor_id</th>\n",
              "      <th>activity_type</th>\n",
              "      <th>health</th>\n",
              "      <th>memo</th>\n",
              "      <th>record_date</th>\n",
              "      <th>record_time</th>\n",
              "      <th>record_time_str</th>\n",
              "      <th>record_time_h</th>\n",
              "      <th>record_time_min</th>\n",
              "    </tr>\n",
              "  </thead>\n",
              "  <tbody>\n",
              "    <tr>\n",
              "      <th>0</th>\n",
              "      <td>GRAN_test_0000_20210621_155009.wav</td>\n",
              "      <td>2021-06-21 15:50:06</td>\n",
              "      <td>Неопределенно</td>\n",
              "      <td>33.0</td>\n",
              "      <td>0000</td>\n",
              "      <td>test</td>\n",
              "      <td>не скажу</td>\n",
              "      <td>норма</td>\n",
              "      <td>Тестовый</td>\n",
              "      <td>2021-06-21</td>\n",
              "      <td>15:50:06</td>\n",
              "      <td>15:50:06</td>\n",
              "      <td>15.835000</td>\n",
              "      <td>950.100000</td>\n",
              "    </tr>\n",
              "    <tr>\n",
              "      <th>1</th>\n",
              "      <td>GRAN_kelesheva_00000_20210630_102019.wav</td>\n",
              "      <td>2021-06-30 10:20:06</td>\n",
              "      <td>Женщина</td>\n",
              "      <td>0.0</td>\n",
              "      <td>00000</td>\n",
              "      <td>kelesheva</td>\n",
              "      <td>Оператор</td>\n",
              "      <td>норма</td>\n",
              "      <td>-</td>\n",
              "      <td>2021-06-30</td>\n",
              "      <td>10:20:06</td>\n",
              "      <td>10:20:06</td>\n",
              "      <td>10.335000</td>\n",
              "      <td>620.100000</td>\n",
              "    </tr>\n",
              "    <tr>\n",
              "      <th>2</th>\n",
              "      <td>GRAN_evtushenkopmi_00000_20210701_005006.wav</td>\n",
              "      <td>2021-07-01 00:50:07</td>\n",
              "      <td>Мужчина</td>\n",
              "      <td>26.0</td>\n",
              "      <td>00000</td>\n",
              "      <td>evtushenkopmi</td>\n",
              "      <td>Operator</td>\n",
              "      <td>норма</td>\n",
              "      <td></td>\n",
              "      <td>2021-07-01</td>\n",
              "      <td>00:50:07</td>\n",
              "      <td>00:50:07</td>\n",
              "      <td>0.835278</td>\n",
              "      <td>50.116667</td>\n",
              "    </tr>\n",
              "    <tr>\n",
              "      <th>3</th>\n",
              "      <td>GRAN_bugrovayagi_00000_20210701_045941.wav</td>\n",
              "      <td>2021-07-01 04:59:07</td>\n",
              "      <td>Женщина</td>\n",
              "      <td>31.0</td>\n",
              "      <td>00000</td>\n",
              "      <td>bugrovayagi</td>\n",
              "      <td>оператор</td>\n",
              "      <td>норма</td>\n",
              "      <td></td>\n",
              "      <td>2021-07-01</td>\n",
              "      <td>04:59:07</td>\n",
              "      <td>04:59:07</td>\n",
              "      <td>4.985278</td>\n",
              "      <td>299.116667</td>\n",
              "    </tr>\n",
              "    <tr>\n",
              "      <th>4</th>\n",
              "      <td>GRAN__00000_20210701_045844.wav</td>\n",
              "      <td>2021-07-01 04:58:07</td>\n",
              "      <td>Неопределенно</td>\n",
              "      <td>0.0</td>\n",
              "      <td>00000</td>\n",
              "      <td></td>\n",
              "      <td>Оператор</td>\n",
              "      <td>норма</td>\n",
              "      <td>Норм день</td>\n",
              "      <td>2021-07-01</td>\n",
              "      <td>04:58:07</td>\n",
              "      <td>04:58:07</td>\n",
              "      <td>4.968611</td>\n",
              "      <td>298.116667</td>\n",
              "    </tr>\n",
              "  </tbody>\n",
              "</table>\n",
              "</div>"
            ],
            "text/plain": [
              "                                       filename  ... record_time_min\n",
              "0            GRAN_test_0000_20210621_155009.wav  ...      950.100000\n",
              "1      GRAN_kelesheva_00000_20210630_102019.wav  ...      620.100000\n",
              "2  GRAN_evtushenkopmi_00000_20210701_005006.wav  ...       50.116667\n",
              "3    GRAN_bugrovayagi_00000_20210701_045941.wav  ...      299.116667\n",
              "4               GRAN__00000_20210701_045844.wav  ...      298.116667\n",
              "\n",
              "[5 rows x 14 columns]"
            ]
          },
          "metadata": {},
          "execution_count": 34
        }
      ]
    },
    {
      "cell_type": "code",
      "metadata": {
        "id": "pevMvXtw0a0z"
      },
      "source": [
        "'''\n",
        "gran_df['record_time_delta'] = pd.to_timedelta(gran_df['record_time_str'])\n",
        "gran_df.record_time_delta.head()\n",
        "# похоже, что record_time_str имеет формат str,\n",
        "# так как, если вместо поля record_time_str подставить record_time, то будет ошибка\n",
        "'''"
      ],
      "execution_count": null,
      "outputs": []
    },
    {
      "cell_type": "code",
      "metadata": {
        "id": "MfTttLj5PWb1"
      },
      "source": [
        "'''\n",
        "gran_df['record_time_delta'] = pd.to_timedelta(gran_df['record_time_delta'], unit='ms')\n",
        "gran_df.record_time_delta.head()\n",
        "# не удалось преобразовать длительность в минуты...\n",
        "'''"
      ],
      "execution_count": null,
      "outputs": []
    },
    {
      "cell_type": "markdown",
      "metadata": {
        "id": "j4xy8IyGRnMI"
      },
      "source": [
        "Удалось преобразовать в продолжительность, измеряемую в днях, часах и минутах.\n",
        "\n",
        "\n",
        "_______________\n"
      ]
    },
    {
      "cell_type": "code",
      "metadata": {
        "id": "g6AdUA_3Ftka",
        "colab": {
          "base_uri": "https://localhost:8080/"
        },
        "outputId": "10f8b48c-a78f-45c6-ba37-500b5b43cc03"
      },
      "source": [
        "# группируем по дикторам и количеству записей у каждого\n",
        "gran_df_gb = gran_df.groupby(['record_date', 'dictor_id'])['filename'].size().reset_index(name='Size')\n",
        "\n",
        "print(gran_df_gb.head(20))"
      ],
      "execution_count": null,
      "outputs": [
        {
          "output_type": "stream",
          "name": "stdout",
          "text": [
            "   record_date      dictor_id  Size\n",
            "0   2021-06-21           test     1\n",
            "1   2021-06-30      kelesheva     1\n",
            "2   2021-07-01                    3\n",
            "3   2021-07-01           ajuk     2\n",
            "4   2021-07-01      barskovgl     2\n",
            "5   2021-07-01    bugrovayagi     2\n",
            "6   2021-07-01          ch135     1\n",
            "7   2021-07-01      chubarrgl     2\n",
            "8   2021-07-01        chuzha1     4\n",
            "9   2021-07-01     dubininagl     1\n",
            "10  2021-07-01      eremenko6     2\n",
            "11  2021-07-01  evtushenkopmi     2\n",
            "12  2021-07-01  gernosekova_d     2\n",
            "13  2021-07-01      gomenukkk     1\n",
            "14  2021-07-01   goncharova15     2\n",
            "15  2021-07-01     harab-sber     2\n",
            "16  2021-07-01  illarionova21     2\n",
            "17  2021-07-01  ipetropavlova     2\n",
            "18  2021-07-01       ischukgl     2\n",
            "19  2021-07-01     ivanova_ot     2\n"
          ]
        }
      ]
    },
    {
      "cell_type": "code",
      "metadata": {
        "id": "ISGSMlPzjs-o",
        "colab": {
          "base_uri": "https://localhost:8080/"
        },
        "outputId": "3a9209d8-ee4e-48cd-e379-d48c4304db64"
      },
      "source": [
        "print(gran_df_gb.sort_values(by=['Size','record_date']))#(ascending=False))\n",
        "gran_df_gb.to_excel(dir+'dictor_rec_count.xlsx','counts')"
      ],
      "execution_count": null,
      "outputs": [
        {
          "output_type": "stream",
          "name": "stdout",
          "text": [
            "     record_date       dictor_id  Size\n",
            "0     2021-06-21            test     1\n",
            "1     2021-06-30       kelesheva     1\n",
            "6     2021-07-01           ch135     1\n",
            "9     2021-07-01      dubininagl     1\n",
            "13    2021-07-01       gomenukkk     1\n",
            "...          ...             ...   ...\n",
            "511   2021-07-07                     5\n",
            "603   2021-07-08                     6\n",
            "3989  2021-10-21  Не определенно     6\n",
            "133   2021-07-02        muzychuk     7\n",
            "876   2021-07-12                     8\n",
            "\n",
            "[4167 rows x 3 columns]\n"
          ]
        }
      ]
    },
    {
      "cell_type": "code",
      "metadata": {
        "id": "6vC5ST2517bI",
        "colab": {
          "base_uri": "https://localhost:8080/"
        },
        "outputId": "f8bf5d85-aa0b-4b94-cd12-a2f31ebcda9b"
      },
      "source": [
        "gran_df.info()"
      ],
      "execution_count": null,
      "outputs": [
        {
          "output_type": "stream",
          "name": "stdout",
          "text": [
            "<class 'pandas.core.frame.DataFrame'>\n",
            "RangeIndex: 7278 entries, 0 to 7277\n",
            "Data columns (total 14 columns):\n",
            " #   Column            Non-Null Count  Dtype         \n",
            "---  ------            --------------  -----         \n",
            " 0   filename          7278 non-null   object        \n",
            " 1   record_date_time  7278 non-null   datetime64[ns]\n",
            " 2   gender            7278 non-null   object        \n",
            " 3   age               7278 non-null   float64       \n",
            " 4   record_id         7278 non-null   object        \n",
            " 5   dictor_id         7278 non-null   object        \n",
            " 6   activity_type     7278 non-null   object        \n",
            " 7   health            7278 non-null   object        \n",
            " 8   memo              7278 non-null   object        \n",
            " 9   record_date       7278 non-null   datetime64[ns]\n",
            " 10  record_time       7278 non-null   object        \n",
            " 11  record_time_str   7278 non-null   object        \n",
            " 12  record_time_h     7278 non-null   float64       \n",
            " 13  record_time_min   7278 non-null   float64       \n",
            "dtypes: datetime64[ns](2), float64(3), object(9)\n",
            "memory usage: 796.2+ KB\n"
          ]
        }
      ]
    },
    {
      "cell_type": "markdown",
      "metadata": {
        "id": "ErlMiSxJb53q"
      },
      "source": [
        "Выделяем колонку с данными дикторов и приводим ее в надлежащий вид"
      ]
    },
    {
      "cell_type": "code",
      "metadata": {
        "id": "NGEpgzkUb4vU",
        "colab": {
          "base_uri": "https://localhost:8080/"
        },
        "outputId": "d74ddd09-6117-42d1-aa36-d45f3905ed91"
      },
      "source": [
        "# Выделяем колонки, которые нам нужны.\n",
        "col = ['dictor_id', 'health']\n",
        "gran_df_for_analiz = gran_df[col]\n",
        "# df = df[['Диктор ID', 'Здоровье']]\n",
        "print(\"\\nПреобразованная таблица с 2-мя столбцами:\")\n",
        "print(gran_df_for_analiz [:7])\n",
        "\n",
        "# drop lines with null \n",
        "gran_df_for_analiz = gran_df_for_analiz[pd.notnull(gran_df_for_analiz['dictor_id'])]"
      ],
      "execution_count": null,
      "outputs": [
        {
          "output_type": "stream",
          "name": "stdout",
          "text": [
            "\n",
            "Преобразованная таблица с 2-мя столбцами:\n",
            "       dictor_id health\n",
            "0           test  норма\n",
            "1      kelesheva  норма\n",
            "2  evtushenkopmi  норма\n",
            "3    bugrovayagi  норма\n",
            "4                 норма\n",
            "5      chubarrgl  норма\n",
            "6      barskovgl  норма\n"
          ]
        }
      ]
    },
    {
      "cell_type": "code",
      "metadata": {
        "id": "hBi0THLWc-qT",
        "colab": {
          "base_uri": "https://localhost:8080/"
        },
        "outputId": "1930b777-bd51-4d02-df79-affa3cc80a5a"
      },
      "source": [
        "gran_df_for_analiz['dictor_id'].unique()"
      ],
      "execution_count": null,
      "outputs": [
        {
          "output_type": "execute_result",
          "data": {
            "text/plain": [
              "array(['test', 'kelesheva', 'evtushenkopmi', 'bugrovayagi', '',\n",
              "       'chubarrgl', 'barskovgl', 'ischukgl', 'kkostyuchenko', 'morgunpmi',\n",
              "       'sahnevichpmi', 'илона', 'nikonova1', 'ivanova_ot', 'chuzha1',\n",
              "       'zhovtobrukh', 'kondratovich8', 'stasik', 'goncharova15',\n",
              "       'наталья николайчук', 'puliaeva', 'melnik25', 'sukhorokova',\n",
              "       'storojerka', 'orehova_ot', 'savchenko17', 'moshkova', 'lutsenko2',\n",
              "       'mikhailenko', 'vsokol', 'rudyk_dd', 'eremenko6', 'lisovets77',\n",
              "       'ajuk', 'ipetropavlova', 'pisarcov', 'павел', 'sidorovich9',\n",
              "       'волковская виталина', 'senotrusova_o', 'kirdyn7', 'maleynikov',\n",
              "       'rybaya1', 'ирина', 'sushko1', 'sechina-g', 'shapoval_kk',\n",
              "       'illarionova21', 'kycenko', 'harab-sber', 'savarina5',\n",
              "       'петрухина оксана', 'maks_kk', 'gernosekova_d', 'алена холодная',\n",
              "       'melnikovagl', 'nosenkokk', 'zhovtobryukh', 'zhelkk', 'sivakgl',\n",
              "       'kondratovich25', 'натальяниколайчук', 'zheleznkk', 'dubininagl',\n",
              "       'komarov_m', 'оксана', 'vaulina', 'tofankk', 'gomenukkk',\n",
              "       'polejpmi', 'кириллбудков', 'волковскаявиталина', 'kushnerukotp',\n",
              "       'romanchikkk', 'rudykdd', 'zadorojnaya1', 'odavletkuzhyna',\n",
              "       'kozhevaot', 'корниловаолеся михайловна', 'ch135', 'kharabadze',\n",
              "       'sitnikkk', 'makskk', 'kovtunkk', 'шпилейтимур александрович ',\n",
              "       'ext-cc0008', 'kopeyka', 'koshikkk', 'ohrimenko', 'zaborskayaotp',\n",
              "       'butkk', 'ivanovakk1', 'muzychuk', 'bukovskaya', 'lushnkk',\n",
              "       'solomatovakk', 'mikhalyuk', 'татьяна', 'sheveliuk5', 'azhuk',\n",
              "       'voloshinakk', 'tkachenkomn', 'натали', 'jags', 'chmil15',\n",
              "       'orehovaot', 'privalova3', 'ignatuk111', 'иван', 'оксанакорешкова',\n",
              "       'kucherovskiy', 'nikitina6', 'yakovleva11', 'santar1',\n",
              "       'shevchenkokk', 'shevchenko17', 'lubchenko', 'nikulina7',\n",
              "       'sherbakova4', 'savchenko19', 'senotrusovao', 'prigornickiyd',\n",
              "       'abolihina1', 'myagkih', 'gernosekovad', 'kruzhkova', 'kislov',\n",
              "       'harabsber', 'greckasl', 'shapovalkk', 'анжела', 'kasian333',\n",
              "       'jurchenkork', 'efremenko4', 'borisov5', 'mirzaeva', 'yakot',\n",
              "       'kovalevae', 'untilova', 'kalyuzhnaya1', 'okiseleva', 'ostapkk',\n",
              "       'getmanes', 'натальяковаль', 'ольгапляцковская', 'shevchenkoe',\n",
              "       'артем', 'vera-gluh-g', 'lborisenko', 'komarovm', 'podoprigora',\n",
              "       'кирилл', 'malik3', 'aleynikov', 'panasyuk', 'musihinaot',\n",
              "       'buhanec', 'geryak', 'radionova2', 'tupchienko', 'koval',\n",
              "       'miroshnichenko20', 'yakovleva95', 'bida', 'malchenko3', 'didan',\n",
              "       'ольга', 'belyayeva', 'dovganiuk', 'gnatovskaja', 'doks',\n",
              "       'bezgub18', 'shelamovkk', 'malysheva', 'leyko', 'churkin133',\n",
              "       'shylo55', 'manoilemko', 'boichukrk', 'kupalniya',\n",
              "       'mirochnichenko20', 'podrushs', '  kupalniya', '9587',\n",
              "       'golovachova', 'suvenuk', 'barskova5', 'пляцковскаяольга',\n",
              "       'kovalenkoya', 'matseplyuk', 'savarin5', 'gladkii', 'тимур',\n",
              "       'yarovaya5', 'ext-cc3012', 'leontyan', 'dovgotuchenko',\n",
              "       'tupchienkob', 'dsamarskaja', 'tihonova1', 'tkachik',\n",
              "       'moskalenkoe', 'kostyuchenkok', 'voitenkokk', 'ivanovaot',\n",
              "       'akimova1', 'zinkevich', 'натальяпомарина', 'shvedova5',\n",
              "       'dgoncharova', 'jakovec', 'cholobova', 'владислав', 'ayaroshenko',\n",
              "       'potynga', 'dovgoruchenko', 'kalyuzhnay1', '80006893',\n",
              "       'фартушнаяелизавета алексеевна', 'holyavchukkk', 'hmarakk',\n",
              "       'norgunpmi', 'sergeeva7', 'nepomkk', 'ogulikts', 'ivanovajanna',\n",
              "       'ostapenko1', 'tankova15', 'tshpiley', 'efemenko4', 'kostik4',\n",
              "       'ilvacheva', 'bezgub7', 'tsopa1', 'sheveluk99', 'savchenko21',\n",
              "       'shepetkinakk', 'kornilova', 'mozgovayaotp', 'gritsay', 'аннав',\n",
              "       'serezhnikova1', 'kapranova2', 'barabashuk2', 'privalova1',\n",
              "       'novolozhilova2', 'kaplya2', 'krivaya1', 'yakimenko25', 'koval1kk',\n",
              "       'gladky', 'velikaya', 'yak0t', 'shavkun', 'belyayeva1', 'kizim2',\n",
              "       'bitsrickaya5', 'краснянольга', 'belyayaeva1', 'suhachevskaya2',\n",
              "       'teres', 'egorovahd', 'kudelya', 'kovtun6', 'nfoz03', 'klykova',\n",
              "       'tatarova', 'светенкоекатерина', 'петриченковалерия ', '80006703',\n",
              "       'dovganiuk7', 'kucherevenko15', 'zinkevich2', 'grecka',\n",
              "       'kostenko3', 'goncharova15\\t', 'mankovskaya', 'mihajlovskajaerka',\n",
              "       'sherbina4', 'yakimenko10', 'lutsenko10', 'melnik20',\n",
              "       'пляковскаяольга', 'yashukai', 'n08zqam', 'panasyuktaniyna',\n",
              "       'bogdanbilenko', 'dmaslov', 'kozyr', 'filatova6', 'moskalenko1',\n",
              "       'panasyuktatiyna', 'bilenkobogdan', 'лизафартушная', 'vikhalyuk',\n",
              "       'mkapusta', '9386543060', 'маша', 'богданбиленко', 'kalyuzhnaya',\n",
              "       'lubchenko10', 'kovtun20', 'масловданя', 'zavolenkovskaya', '7712',\n",
              "       '9775308851', 'оператор', 'лкгярлщмф', 'sereznikova10', 'egorova',\n",
              "       'miroshnichenko21', 'babchenko3', 'efrremenko4', 'воладислав',\n",
              "       'sokalskayalp', 'stotojerka', 'николай', 'богданбиленко ',\n",
              "       'биленкобогдан', 'martynovapmi', 'dzyubenko', 'мария',\n",
              "       'масловданил', 'mihajlovskayaerka', 'карина', 'dzyuba',\n",
              "       'gernjsekovad', 'gernesekovad', 'юля', 'vdovichenko', 'анна',\n",
              "       'dzuba', 'сафо', 'dzuyba', 'kparopmi', 'avdeenko2', 'rojina',\n",
              "       'Не определенно', 'масловдагя', 'соединитьс магазином',\n",
              "       'amaksimenko', 'karebinakn', 'karebinakh', 'grartemovatm',\n",
              "       'ozhegovakh', 'grartemyevaea', 'dzheldybakovakh', 'yashinakh',\n",
              "       'земцовроман', 'кирилловаирина kirillova13', 'александр80003908',\n",
              "       'крижановкийвадим krizhanovskiy', 'захароввладислав в zaharov',\n",
              "       'осиповниколай александрович', 'яна', 'захароввладислав zaharov',\n",
              "       'романземцов', 'маркосянартём markosyan', 'осиповниколай',\n",
              "       'иринакириллова kirillova13', '80007878', 'александршумилов',\n",
              "       'zhenishek23женишек наталья', 'ma-lebedev-g', '80007108',\n",
              "       '80004767', '80005199', '80004974', '80004344', 'mamoshin',\n",
              "       'токареванаталья ', 'kotova23', 'amelnikova', 'аксанаомарова',\n",
              "       'токареванаталья', 'ангелина', 'grtakaevaoa', 'grkupzovaas',\n",
              "       'grgayvoronskayapa', 'grsidorenkova', 'grbomchuksi',\n",
              "       'grkachalovamv', 'grvolkovaov', 'msukhano1', 'grruminaaa',\n",
              "       'grdenisovaos', 'vyarovetбелокопытов андрей', 'grmelnikovate',\n",
              "       'александрпоручиков aporuchi', 'amandrovмаркушина',\n",
              "       'grgalishevana', 'grkurushinaon', 'grgnusinagn', 'grkaluginasa',\n",
              "       'grseminaon', 'grvakulenkova', 'grimukovaai', 'gryabchenkola',\n",
              "       'олесяказеннова', 'grshvetsovanss', 'zayceva1', 'elebedev9',\n",
              "       'chudinovamd', 'бирюковаяна владиславовна', 'ольгаисаева',\n",
              "       'галина', 'knyzkin', 'kurguz', 'аксанаомарова ', 'birukova23',\n",
              "       'aporuchi', 'grkupzaas', 'мельниковданиил сергевиич',\n",
              "       'колчинасветлана владиславовна', 'ильдюковамилена валерьевна',\n",
              "       'кадышевконстантин владимирович', 'абрамовникита александрович',\n",
              "       'субботиналексей александрович', 'rahmanovakh', 'aomarova',\n",
              "       'светлана', 'gravolkovaov', 'grprosnikovaep', 'grryabchenkola',\n",
              "       'yatmanovakh', 'галимовалилия габдулхаковна', 'алексей',\n",
              "       'bobovalex01150532', 'grterentyevasa1', 'lavrushkina',\n",
              "       'ярыгинданиил олегович', 'александр', 'василиса',\n",
              "       'grkrasilnikovael', 'алексееваюлия ', 'zolotarev01150534',\n",
              "       'sbornovaa01129245', 'zaitsevae01113329', 'кравчукекатерина',\n",
              "       'tuvashkin', 'nekluydin01129244', 'grsvetsovanss',\n",
              "       'мельниковданиил сергеевич', 'светланаалексеева владимировна',\n",
              "       'kandalinc01129243', 'володинолег романович',\n",
              "       'пономареванаталья александровна', 'елисеевегор вадимович',\n",
              "       'grablevro01150533', 'sbodrov1', 'edunaev1',\n",
              "       'цыгановаалександра александровна', 'лебедевматвей игоревич',\n",
              "       'харченкоданила дмитриевич', 'мавлетбердинданиил альмирович',\n",
              "       'murzinrad01150539', 'verasmich01129241', 'nezametdi01150540',\n",
              "       'дегтяревандрей ', 'ионовавасилиса андреевна', 'алёна',\n",
              "       'кристинамурая', 'lksenafontova', 'молоковичандрей владимирович',\n",
              "       'петруниналександр викторович', 'алексеевасветлана владимировна',\n",
              "       'grtumaevaya', 'олеся', 'артёмкирюхин константинович ', 'макс',\n",
              "       'pollyrobocar', 'еленакутлимбитова 80007894', 'маркушинадарья',\n",
              "       'ermohina', 'lenak', 'gr', 'yahsinova',\n",
              "       'ивановаанастасия александровна ', 'новиковаалена павловна',\n",
              "       'alieva1', 'звездилинаяна александровна ', 'vlasovaar',\n",
              "       'grshvetsovans', 'индира', 'lmusina', '80005758', 'balashov2',\n",
              "       'ykovleva1', 'stupchy', 'zuzinm', 'zaharov', 'дарьямаркушина',\n",
              "       'lenak  ', 'ивановаанастасия александровна', 'gulievaur',\n",
              "       'tukshumskayaur', 'lukyanova-g', 'zhenishek23', 'shajmurzina',\n",
              "       '693311', 'grkuotsova', 'кузнецоваекатерина сергеевна',\n",
              "       'адонинилья игоревич', 'шатскаяанастасия андреевна', 'aporuchikov',\n",
              "       'олег', 'степановпавел алексеевич', 'миленаильдюкова',\n",
              "       'naabramov-g', 'grdenisova', '624737', 'abelokopytov',\n",
              "       'kolesnikovaur', 'beznikina01150531', 'vankova23', '878413',\n",
              "       'babenko23', 'isaeva23', 'лебедевматвей', 'колчинасветлана',\n",
              "       'наталья', 'furovivan01129246', 'харченкоданила', 'obabenko',\n",
              "       'лебедевматвей ma-lebedev-g', 'цыгановаалександра',\n",
              "       'натальяпономарева', 'grmelkovate', 'цыганова александра',\n",
              "       'grvolklovaov', 'gvlasovaar', 'grkuptsovaas', 'grtishinaso',\n",
              "       'александрацыганова', 'gramelnikovate', 'grsagetdinova',\n",
              "       'mmalyshe1', 'костенкостанислав валерьевич', 'grgolovinana',\n",
              "       'маркосянартем markosyan', 'шатровскаявероника валерьевна',\n",
              "       'ougleva', 'nimkina', 'naabramov-g)', 'rezcovaur', 'kravcova2',\n",
              "       'skraus', 'sokalskaya', 'kyzikin1',\n",
              "       'алексевасветлана владимировна', 'матвейлебедев',\n",
              "       'алексеевасветлана владмировна', 'добришкинаюлия', 'isaevakh',\n",
              "       'шатскаяанастасия ', 'пархачевмаксим 80004894', 'дмитрийшестаков',\n",
              "       'степановпавел', ' grprosnikovaep', 'grdenisoos', 'ovolkovaov',\n",
              "       'mishutina01113330', 'ярыгинданиил', 'bolsunovskayakh', 'grsemina',\n",
              "       'sablukovakh', 'o-babenko', 'naabramob-g', 'kolesnikovaur ',\n",
              "       'степановпавел ', 'ширявсковаюлия сергеевна', 'lvolkova2',\n",
              "       'ширшоваева', 'nabramov-g', 'кадышевкв ', 'isaeva',\n",
              "       'grntmall_teamt_028', 'ширявсковаюлия ', 'artemevakh', 'mingazova',\n",
              "       'volkovat', 'yshiryae ', 'korneevae', 'ширявсковаюлия', 'надежда',\n",
              "       'ишкглщмф23', 'volovat', 'krishtafovichdhl', 'zavgorodnyayadhl',\n",
              "       'nkhorosh', 'лилияновикова', 'александраскрыпник', 'avoronenko',\n",
              "       'nsteshova', 'kort', 'stesht', 'cjurikov22', 'sert',\n",
              "       'лилиямельник', 'baykovpmi', 'sahno1', 'shert', 'vaskulpmi',\n",
              "       'лилия', 'liaschenkodhl', 'александра', 'grposnikovaep',\n",
              "       'dzheldybakovargs', 'karebinargs', 'vlevin1', 'osipov',\n",
              "       'riabinova', 'churashova', 'grartemova', 'birukova23ё',\n",
              "       'cernovden01232261', 'mchudinova', 'chernov', 'papushkina23',\n",
              "       'рябовалексей сергеевич', 'isaevargs', 'isaevargsw'], dtype=object)"
            ]
          },
          "metadata": {},
          "execution_count": 40
        }
      ]
    }
  ]
}